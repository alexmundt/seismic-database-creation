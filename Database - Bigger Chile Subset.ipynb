{
 "cells": [
  {
   "cell_type": "code",
   "execution_count": 1,
   "id": "827bcf05-b3e9-4ab9-8051-3f1401d6a090",
   "metadata": {},
   "outputs": [],
   "source": [
    "import pandas as pd\n",
    "from obspy import read_events\n",
    "from utility import get_ID_mapping_dict"
   ]
  },
  {
   "cell_type": "code",
   "execution_count": 2,
   "id": "216d3174-dcb4-41de-b591-f0fbdf14bcc3",
   "metadata": {},
   "outputs": [],
   "source": [
    "base_file = \"base_database_frame\"\n",
    "df = pd.read_pickle(base_file)"
   ]
  },
  {
   "cell_type": "markdown",
   "id": "3b80b047-748f-4ccf-a7d4-139df664b928",
   "metadata": {},
   "source": [
    "# The previous Chile subset\n",
    "In previous analyses I created a subset of the dataset only containing events along the coast of Chile.\n",
    "\n",
    "The following values were used to define the original subset."
   ]
  },
  {
   "cell_type": "code",
   "execution_count": 3,
   "id": "7af53311-0718-4897-a436-4d944d5b0f66",
   "metadata": {},
   "outputs": [],
   "source": [
    "minlatitude = -28.27\n",
    "maxlatitude = -18.61\n",
    "minlongitude=-73.5\n",
    "maxlongitude=-68.5"
   ]
  },
  {
   "cell_type": "code",
   "execution_count": 4,
   "id": "723295c1-6b91-44cc-8c02-e3c7f27f4f04",
   "metadata": {},
   "outputs": [],
   "source": [
    "\n",
    "cat_chile_coast = df.query(f\"longitude >= {minlongitude} and longitude <= {maxlongitude} and latitude >= {minlatitude} and latitude <= {maxlatitude}\" )\n",
    "                  # f\"latitude > {minlatitude}\",\n",
    "                  # f\"latitude < {maxlatitude}\",\n",
    "                  # \"time > 2000-01-01T00:20\")"
   ]
  },
  {
   "cell_type": "code",
   "execution_count": 5,
   "id": "bd4de83c-9d1a-44a7-b34a-83a7420648f9",
   "metadata": {},
   "outputs": [],
   "source": [
    "# cat_chile_coast_2000 = df.query(\"time.time > 2000\")\n",
    "new_cat = cat_chile_coast[cat_chile_coast[\"time\"].apply(lambda x: x.year)>=2000]"
   ]
  },
  {
   "cell_type": "code",
   "execution_count": 6,
   "id": "2cee2f52-2071-4903-a9e5-4da10e6e2faf",
   "metadata": {},
   "outputs": [
    {
     "data": {
      "text/plain": [
       "(524, 22)"
      ]
     },
     "execution_count": 6,
     "metadata": {},
     "output_type": "execute_result"
    }
   ],
   "source": [
    "new_cat.shape"
   ]
  },
  {
   "cell_type": "code",
   "execution_count": 7,
   "id": "6f6cf011-eb60-43ec-911c-fe93f0e1b496",
   "metadata": {},
   "outputs": [],
   "source": [
    "# frame_output_file = \"chile_events_frame\"\n",
    "# new_cat.to_pickle(frame_output_file)"
   ]
  },
  {
   "cell_type": "code",
   "execution_count": 14,
   "id": "dfb30486-c978-4f52-bfa3-205b925086a9",
   "metadata": {},
   "outputs": [],
   "source": [
    "def get_new_catalog_frame(minlatitude, maxlatitude, minlongitude, maxlongitude):\n",
    "    new_cat = df.query(f\"longitude >= {minlongitude} and longitude <= {maxlongitude} and latitude >= {minlatitude} and latitude <= {maxlatitude}\" )\n",
    "    # new_cat = new_cat[new_cat[\"time\"].apply(lambda x: x.year)>=2000]\n",
    "    return new_cat"
   ]
  },
  {
   "cell_type": "code",
   "execution_count": 15,
   "id": "78068088-ab59-4fa3-bf18-4e6aefa9b977",
   "metadata": {},
   "outputs": [],
   "source": [
    "minlatitude = -28.27\n",
    "maxlatitude = -18.61\n",
    "minlongitude=-83.5\n",
    "maxlongitude=-58.5\n",
    "cat1 = get_new_catalog_frame(minlatitude, maxlatitude, minlongitude, maxlongitude)"
   ]
  },
  {
   "cell_type": "code",
   "execution_count": 16,
   "id": "9b06b208-9867-4ce6-bb35-92bb365c3bb7",
   "metadata": {},
   "outputs": [
    {
     "data": {
      "text/plain": [
       "(1123, 22)"
      ]
     },
     "execution_count": 16,
     "metadata": {},
     "output_type": "execute_result"
    }
   ],
   "source": [
    "cat1.shape"
   ]
  },
  {
   "cell_type": "code",
   "execution_count": 17,
   "id": "aa9322f9-6a01-41bf-8e04-0b502037cc53",
   "metadata": {},
   "outputs": [
    {
     "data": {
      "text/html": [
       "<div>\n",
       "<style scoped>\n",
       "    .dataframe tbody tr th:only-of-type {\n",
       "        vertical-align: middle;\n",
       "    }\n",
       "\n",
       "    .dataframe tbody tr th {\n",
       "        vertical-align: top;\n",
       "    }\n",
       "\n",
       "    .dataframe thead th {\n",
       "        text-align: right;\n",
       "    }\n",
       "</style>\n",
       "<table border=\"1\" class=\"dataframe\">\n",
       "  <thead>\n",
       "    <tr style=\"text-align: right;\">\n",
       "      <th></th>\n",
       "      <th>longitude</th>\n",
       "      <th>latitude</th>\n",
       "      <th>depth</th>\n",
       "      <th>time</th>\n",
       "      <th>mag</th>\n",
       "      <th>mag_type</th>\n",
       "      <th>m_rr</th>\n",
       "      <th>m_tt</th>\n",
       "      <th>m_pp</th>\n",
       "      <th>m_rt</th>\n",
       "      <th>...</th>\n",
       "      <th>source_time_duration</th>\n",
       "      <th>source_time_function</th>\n",
       "      <th>gcmt_id</th>\n",
       "      <th>m_rr_norm</th>\n",
       "      <th>m_tt_norm</th>\n",
       "      <th>m_pp_norm</th>\n",
       "      <th>m_rt_norm</th>\n",
       "      <th>m_rp_norm</th>\n",
       "      <th>m_tp_norm</th>\n",
       "      <th>event_id</th>\n",
       "    </tr>\n",
       "  </thead>\n",
       "  <tbody>\n",
       "    <tr>\n",
       "      <th>105</th>\n",
       "      <td>-68.51</td>\n",
       "      <td>-20.54</td>\n",
       "      <td>133700.0</td>\n",
       "      <td>1976-11-30T00:41:13.300000Z</td>\n",
       "      <td>7.54</td>\n",
       "      <td>Mwc</td>\n",
       "      <td>-1.790000e+20</td>\n",
       "      <td>-3.500000e+19</td>\n",
       "      <td>2.140000e+20</td>\n",
       "      <td>5.500000e+19</td>\n",
       "      <td>...</td>\n",
       "      <td>30.2</td>\n",
       "      <td>box car</td>\n",
       "      <td>M113076A</td>\n",
       "      <td>-0.836449</td>\n",
       "      <td>-0.163551</td>\n",
       "      <td>1.000000</td>\n",
       "      <td>0.257009</td>\n",
       "      <td>-0.663551</td>\n",
       "      <td>-0.205607</td>\n",
       "      <td>QCvxzAzk</td>\n",
       "    </tr>\n",
       "    <tr>\n",
       "      <th>131</th>\n",
       "      <td>-68.61</td>\n",
       "      <td>-24.89</td>\n",
       "      <td>134400.0</td>\n",
       "      <td>1977-01-17T21:27:36.500000Z</td>\n",
       "      <td>6.85</td>\n",
       "      <td>Mwc</td>\n",
       "      <td>1.978000e+19</td>\n",
       "      <td>4.430000e+18</td>\n",
       "      <td>-2.422000e+19</td>\n",
       "      <td>3.270000e+18</td>\n",
       "      <td>...</td>\n",
       "      <td>20.4</td>\n",
       "      <td>box car</td>\n",
       "      <td>C011777C</td>\n",
       "      <td>0.816680</td>\n",
       "      <td>0.182907</td>\n",
       "      <td>-1.000000</td>\n",
       "      <td>0.135012</td>\n",
       "      <td>0.054913</td>\n",
       "      <td>-0.338976</td>\n",
       "      <td>SHZYFGYC</td>\n",
       "    </tr>\n",
       "    <tr>\n",
       "      <th>147</th>\n",
       "      <td>-62.91</td>\n",
       "      <td>-25.05</td>\n",
       "      <td>565100.0</td>\n",
       "      <td>1977-02-04T07:46:41.200000Z</td>\n",
       "      <td>6.65</td>\n",
       "      <td>Mwc</td>\n",
       "      <td>-1.800000e+18</td>\n",
       "      <td>-2.000000e+16</td>\n",
       "      <td>1.820000e+18</td>\n",
       "      <td>-5.630000e+18</td>\n",
       "      <td>...</td>\n",
       "      <td>6.0</td>\n",
       "      <td>box car</td>\n",
       "      <td>B020477A</td>\n",
       "      <td>-0.173077</td>\n",
       "      <td>-0.001923</td>\n",
       "      <td>0.175000</td>\n",
       "      <td>-0.541346</td>\n",
       "      <td>1.000000</td>\n",
       "      <td>0.108654</td>\n",
       "      <td>Kk5opeTY</td>\n",
       "    </tr>\n",
       "    <tr>\n",
       "      <th>220</th>\n",
       "      <td>-69.27</td>\n",
       "      <td>-23.01</td>\n",
       "      <td>129700.0</td>\n",
       "      <td>1977-04-15T23:35:40.000000Z</td>\n",
       "      <td>5.38</td>\n",
       "      <td>Mwc</td>\n",
       "      <td>-6.340000e+16</td>\n",
       "      <td>-6.600000e+16</td>\n",
       "      <td>1.294000e+17</td>\n",
       "      <td>-2.740000e+16</td>\n",
       "      <td>...</td>\n",
       "      <td>4.0</td>\n",
       "      <td>box car</td>\n",
       "      <td>B041577A</td>\n",
       "      <td>-0.489954</td>\n",
       "      <td>-0.510046</td>\n",
       "      <td>1.000000</td>\n",
       "      <td>-0.211747</td>\n",
       "      <td>-0.535549</td>\n",
       "      <td>-0.570325</td>\n",
       "      <td>EGJp1CDu</td>\n",
       "    </tr>\n",
       "    <tr>\n",
       "      <th>281</th>\n",
       "      <td>-69.71</td>\n",
       "      <td>-23.51</td>\n",
       "      <td>32000.0</td>\n",
       "      <td>1977-06-05T02:46:13.100000Z</td>\n",
       "      <td>5.87</td>\n",
       "      <td>Mwc</td>\n",
       "      <td>-1.055000e+17</td>\n",
       "      <td>-2.500000e+15</td>\n",
       "      <td>1.080000e+17</td>\n",
       "      <td>2.196000e+17</td>\n",
       "      <td>...</td>\n",
       "      <td>6.2</td>\n",
       "      <td>box car</td>\n",
       "      <td>B060577A</td>\n",
       "      <td>-0.148299</td>\n",
       "      <td>-0.003514</td>\n",
       "      <td>0.151813</td>\n",
       "      <td>0.308687</td>\n",
       "      <td>-1.000000</td>\n",
       "      <td>-0.465561</td>\n",
       "      <td>KHPJvRTa</td>\n",
       "    </tr>\n",
       "  </tbody>\n",
       "</table>\n",
       "<p>5 rows × 22 columns</p>\n",
       "</div>"
      ],
      "text/plain": [
       "     longitude  latitude     depth                         time   mag  \\\n",
       "105     -68.51    -20.54  133700.0  1976-11-30T00:41:13.300000Z  7.54   \n",
       "131     -68.61    -24.89  134400.0  1977-01-17T21:27:36.500000Z  6.85   \n",
       "147     -62.91    -25.05  565100.0  1977-02-04T07:46:41.200000Z  6.65   \n",
       "220     -69.27    -23.01  129700.0  1977-04-15T23:35:40.000000Z  5.38   \n",
       "281     -69.71    -23.51   32000.0  1977-06-05T02:46:13.100000Z  5.87   \n",
       "\n",
       "    mag_type          m_rr          m_tt          m_pp          m_rt  ...  \\\n",
       "105      Mwc -1.790000e+20 -3.500000e+19  2.140000e+20  5.500000e+19  ...   \n",
       "131      Mwc  1.978000e+19  4.430000e+18 -2.422000e+19  3.270000e+18  ...   \n",
       "147      Mwc -1.800000e+18 -2.000000e+16  1.820000e+18 -5.630000e+18  ...   \n",
       "220      Mwc -6.340000e+16 -6.600000e+16  1.294000e+17 -2.740000e+16  ...   \n",
       "281      Mwc -1.055000e+17 -2.500000e+15  1.080000e+17  2.196000e+17  ...   \n",
       "\n",
       "     source_time_duration  source_time_function   gcmt_id m_rr_norm m_tt_norm  \\\n",
       "105                  30.2               box car  M113076A -0.836449 -0.163551   \n",
       "131                  20.4               box car  C011777C  0.816680  0.182907   \n",
       "147                   6.0               box car  B020477A -0.173077 -0.001923   \n",
       "220                   4.0               box car  B041577A -0.489954 -0.510046   \n",
       "281                   6.2               box car  B060577A -0.148299 -0.003514   \n",
       "\n",
       "     m_pp_norm  m_rt_norm  m_rp_norm  m_tp_norm  event_id  \n",
       "105   1.000000   0.257009  -0.663551  -0.205607  QCvxzAzk  \n",
       "131  -1.000000   0.135012   0.054913  -0.338976  SHZYFGYC  \n",
       "147   0.175000  -0.541346   1.000000   0.108654  Kk5opeTY  \n",
       "220   1.000000  -0.211747  -0.535549  -0.570325  EGJp1CDu  \n",
       "281   0.151813   0.308687  -1.000000  -0.465561  KHPJvRTa  \n",
       "\n",
       "[5 rows x 22 columns]"
      ]
     },
     "execution_count": 17,
     "metadata": {},
     "output_type": "execute_result"
    }
   ],
   "source": [
    "cat1.head()"
   ]
  },
  {
   "cell_type": "code",
   "execution_count": 13,
   "id": "1d14034b-61b7-4b55-88b2-41ed27215fa8",
   "metadata": {},
   "outputs": [],
   "source": [
    "write_again = False\n",
    "if write_again:\n",
    "    cat1.to_pickle(\"example_dataset_chile_test\")"
   ]
  },
  {
   "cell_type": "code",
   "execution_count": 18,
   "id": "cdf5aa5a-2510-49f1-9723-5cba079ff916",
   "metadata": {},
   "outputs": [],
   "source": [
    "# cat1.to_pickle(\"bigger_dataset_chile\")"
   ]
  },
  {
   "cell_type": "code",
   "execution_count": null,
   "id": "533c45b9-0b1b-4640-8bfe-5bfb6cc7663c",
   "metadata": {},
   "outputs": [],
   "source": []
  }
 ],
 "metadata": {
  "kernelspec": {
   "display_name": "Python 3 (ipykernel)",
   "language": "python",
   "name": "python3"
  },
  "language_info": {
   "codemirror_mode": {
    "name": "ipython",
    "version": 3
   },
   "file_extension": ".py",
   "mimetype": "text/x-python",
   "name": "python",
   "nbconvert_exporter": "python",
   "pygments_lexer": "ipython3",
   "version": "3.9.7"
  }
 },
 "nbformat": 4,
 "nbformat_minor": 5
}
